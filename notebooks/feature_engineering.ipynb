{
 "cells": [
  {
   "cell_type": "markdown",
   "id": "e4886240-b0d2-443c-8764-dce63ecfcd94",
   "metadata": {},
   "source": [
    "# Feature Engineering"
   ]
  },
  {
   "cell_type": "code",
   "execution_count": null,
   "id": "ca9d586a-3e3d-4a2b-b9ad-60a612a32f91",
   "metadata": {},
   "outputs": [],
   "source": [
    "import sys\n",
    "import os\n",
    "sys.path.append('../scripts')\n",
    "from data_loader import *\n",
    "from feature_engineering import *"
   ]
  },
  {
   "cell_type": "code",
   "execution_count": null,
   "id": "106a5f58-01fa-4056-b870-9393a93f19f0",
   "metadata": {},
   "outputs": [],
   "source": [
    "# path to the CSV file\n",
    "filename = 'processed_df.parquet'\n",
    "\n",
    "path = os.path.join('..', 'data/raw', filename)\n",
    "\n",
    "# Load dataset\n",
    "df = load_data(path)"
   ]
  },
  {
   "cell_type": "code",
   "execution_count": null,
   "id": "7b2c90e8-6cc4-48ea-bafb-02deb182d9e1",
   "metadata": {},
   "outputs": [],
   "source": [
    "processed_data = feature_engineering(merged_df)\n",
    "processed_data.head()"
   ]
  },
  {
   "cell_type": "markdown",
   "id": "312b13a1-3170-4741-9e31-afcd13455e83",
   "metadata": {},
   "source": [
    "## Normalize and Scale"
   ]
  },
  {
   "cell_type": "code",
   "execution_count": null,
   "id": "5c6c0955-03bb-4336-b8fc-ab06da0dc4ae",
   "metadata": {},
   "outputs": [],
   "source": [
    "processed_data = normalize_and_scale(processed_data)\n",
    "processed_data.head()"
   ]
  },
  {
   "cell_type": "markdown",
   "id": "3ead9192-27ff-42ba-9cae-782e9cffefec",
   "metadata": {},
   "source": [
    "## Encode Categorical Features"
   ]
  },
  {
   "cell_type": "code",
   "execution_count": null,
   "id": "92eb5b00-93fb-42d0-a519-98f5341581e6",
   "metadata": {},
   "outputs": [],
   "source": [
    "encoded_df = encode_categorical_features(processed_data)\n",
    "processed_data.head()"
   ]
  },
  {
   "cell_type": "markdown",
   "id": "02141406-861e-41e7-9024-6b6831036c46",
   "metadata": {},
   "source": [
    "## Save dataset"
   ]
  },
  {
   "cell_type": "code",
   "execution_count": null,
   "id": "75cb9c86-319d-4461-863a-4f060bdb934f",
   "metadata": {},
   "outputs": [],
   "source": [
    "# Define output folder and file name\n",
    "output_folder = os.path.join('..', 'data', 'processed')\n",
    "filename = 'cleaned_df.parquet'\n",
    "\n",
    "output_path = save_data(cleaned_df, output_folder, filename)"
   ]
  }
 ],
 "metadata": {
  "kernelspec": {
   "display_name": "Python 3 (ipykernel)",
   "language": "python",
   "name": "python3"
  },
  "language_info": {
   "codemirror_mode": {
    "name": "ipython",
    "version": 3
   },
   "file_extension": ".py",
   "mimetype": "text/x-python",
   "name": "python",
   "nbconvert_exporter": "python",
   "pygments_lexer": "ipython3",
   "version": "3.12.0rc3"
  }
 },
 "nbformat": 4,
 "nbformat_minor": 5
}
